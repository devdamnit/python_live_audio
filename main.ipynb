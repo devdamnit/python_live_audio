{
 "cells": [
  {
   "cell_type": "code",
   "execution_count": 19,
   "metadata": {},
   "outputs": [],
   "source": [
    "import pyaudio\n",
    "import struct\n",
    "import numpy as np\n",
    "import matplotlib.pyplot as plt\n",
    "from scipy.fftpack import fft\n",
    "import time\n",
    "from tkinter import TclError\n",
    "import pandas as pd\n",
    "from datetime import datetime\n",
    "\n",
    "# to display in separate Tk window\n",
    "%matplotlib tk\n",
    "\n",
    "# constants\n",
    "CHUNK = 1024 * 2             # samples per frame\n",
    "FORMAT = pyaudio.paInt16     # audio format (bytes per sample?)\n",
    "CHANNELS = 1                 # single channel for microphone\n",
    "RATE = 44100                 # samples per second\n",
    "THRESHOLD_X = 2000\n",
    "THRESHOLD_Y = 0.6\n",
    "FILENAME = \"output.csv\""
   ]
  },
  {
   "cell_type": "code",
   "execution_count": 20,
   "metadata": {},
   "outputs": [
    {
     "name": "stderr",
     "output_type": "stream",
     "text": [
      "c:\\Users\\devjm\\AppData\\Local\\Programs\\Python\\Python39\\lib\\site-packages\\numpy\\ma\\core.py:6849: RuntimeWarning: overflow encountered in power\n",
      "  result = np.where(m, fa, umath.power(fa, fb)).view(basetype)\n"
     ]
    },
    {
     "name": "stdout",
     "output_type": "stream",
     "text": [
      "stream started\n",
      "stream stopped\n"
     ]
    }
   ],
   "source": [
    "# Creating dataframe for frequency\n",
    "threshold_df = pd.DataFrame(columns=['Frequency', 'Loudness', 'TimeStamp'])\n",
    "\n",
    "# create matplotlib figure and axes\n",
    "fig, (ax1, ax2) = plt.subplots(2, figsize=(15, 7))\n",
    "\n",
    "# pyaudio class instance\n",
    "p = pyaudio.PyAudio()\n",
    "\n",
    "# stream object to get data from microphone\n",
    "stream = p.open(\n",
    "    format=FORMAT,\n",
    "    channels=CHANNELS,\n",
    "    rate=RATE,\n",
    "    input=True,\n",
    "    output=True,\n",
    "    frames_per_buffer=CHUNK\n",
    ")\n",
    "\n",
    "# variable for plotting\n",
    "x = np.arange(0, 2 * CHUNK, 2)       # samples (waveform)\n",
    "xf = np.linspace(0, RATE, CHUNK)     # frequencies (spectrum)\n",
    "\n",
    "# create a line object with random data\n",
    "line, = ax1.plot(x, np.random.rand(CHUNK), '-', color=\"blue\", lw=2)\n",
    "\n",
    "# create semilogx line for spectrum\n",
    "line_fft, = ax2.semilogx(xf, np.random.rand(CHUNK), '-', color=\"blue\", lw=2)\n",
    "\n",
    "# format waveform axes\n",
    "ax1.set_title('Audio Visualizer')\n",
    "ax1.set_xlabel('Chunks')\n",
    "ax1.set_ylabel('Loudness')\n",
    "ax1.set_ylim(0, 255)\n",
    "ax1.set_xlim(0, 2 * CHUNK)\n",
    "plt.setp(ax1, xticks=[0, CHUNK, 2 * CHUNK], yticks=[0, 128, 255])\n",
    "\n",
    "plt.axhspan(0, THRESHOLD_Y, 0, 0.658, facecolor='green', alpha=0.7)\n",
    "plt.axhspan(THRESHOLD_Y, 1.0, 0.658, RATE / 2, facecolor='red', alpha=0.7)\n",
    "plt.axhspan(0, THRESHOLD_Y, 0.658, RATE / 2, facecolor='orange', alpha=0.7)\n",
    "plt.axhspan(THRESHOLD_Y, 1.0, 0, 0.658, facecolor='yellow', alpha=0.7)\n",
    "\n",
    "# format spectrum axes\n",
    "ax2.set_xlim(20, RATE / 2)\n",
    "\n",
    "print('stream started')\n",
    "\n",
    "df_length = 0\n",
    "\n",
    "while True:\n",
    "    \n",
    "    # binary data\n",
    "    data = stream.read(CHUNK)  \n",
    "    \n",
    "    # convert data to integers, make np array, then offset it by 127\n",
    "    data_int = struct.unpack(str(2 * CHUNK) + 'B', data)\n",
    "    \n",
    "    # create np array and offset by 128\n",
    "    data_np = np.array(data_int, dtype='b')[::2] + 128\n",
    "\n",
    "    line.set_ydata(data_np)\n",
    "    \n",
    "    # compute FFT and update line\n",
    "    yf = fft(data_int)\n",
    "    temp = np.abs(yf[0:CHUNK]) / (128 * CHUNK)\n",
    "    line_fft.set_ydata(temp)\n",
    "    (x_line_fft, y_line_fft) = line_fft.get_data()\n",
    "    x_line_fft = np.array(x_line_fft)[10:]\n",
    "    y_line_fft = np.array(y_line_fft)[10:]\n",
    "    threshold_arr = np.where(np.logical_and(x_line_fft > THRESHOLD_X, y_line_fft > THRESHOLD_Y))\n",
    "    if (len(threshold_arr[0]) > 0 and x_line_fft[threshold_arr[0][0]] < RATE / 2):\n",
    "        threshold_df.loc[df_length] = [x_line_fft[threshold_arr[0][0]], y_line_fft[threshold_arr[0][0]], datetime.now().strftime(\"%d/%m/%Y %H:%M:%S\")]\n",
    "        df_length += 1\n",
    "    # update figure canvas\n",
    "    try:\n",
    "        fig.canvas.draw()\n",
    "        fig.canvas.flush_events()\n",
    "        \n",
    "    except TclError:\n",
    "        print('stream stopped')\n",
    "        break\n",
    "\n",
    "threshold_df.to_csv(FILENAME, mode='w')"
   ]
  }
 ],
 "metadata": {
  "kernelspec": {
   "display_name": "Python 3.9.6 64-bit",
   "language": "python",
   "name": "python3"
  },
  "language_info": {
   "codemirror_mode": {
    "name": "ipython",
    "version": 3
   },
   "file_extension": ".py",
   "mimetype": "text/x-python",
   "name": "python",
   "nbconvert_exporter": "python",
   "pygments_lexer": "ipython3",
   "version": "3.9.6"
  },
  "orig_nbformat": 4,
  "vscode": {
   "interpreter": {
    "hash": "e92abd11c4cb13074be94ceea256e264cf61aa36c9576796b210a39a86322f20"
   }
  }
 },
 "nbformat": 4,
 "nbformat_minor": 2
}
