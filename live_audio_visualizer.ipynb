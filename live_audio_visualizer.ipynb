{
 "cells": [
  {
   "cell_type": "markdown",
   "metadata": {},
   "source": [
    "# Live Audio Visualizer"
   ]
  },
  {
   "cell_type": "markdown",
   "metadata": {},
   "source": [
    "-  Group ID: **5**\n",
    "-  Team members: \n",
    "    - **Shashank datta Bezgam**\n",
    "    - **Dev Patel**\n",
    "-  Due date: **11-29-2022** \n",
    "-  Assignment: **4 (Group Project)** \n",
    "-  Course: **CS2304**"
   ]
  },
  {
   "cell_type": "markdown",
   "metadata": {},
   "source": [
    "# Honor Pledge"
   ]
  },
  {
   "cell_type": "code",
   "execution_count": null,
   "metadata": {},
   "outputs": [],
   "source": [
    "#  On my honor: \n",
    "#   \n",
    "#  - I have not discussed the Python code in my program with \n",
    "#    anyone other than my instructor or the teaching assistants  \n",
    "#    assigned to this course. \n",
    "#   \n",
    "#  - I have not used Python code obtained from another student,  \n",
    "#    or any other unauthorized source, either modified or  \n",
    "#    unmodified.   \n",
    "#   \n",
    "#  - If any Python code or documentation used in my program  \n",
    "#    was obtained from another source, such as a text book or \n",
    "#    course notes, that has been clearly noted with a proper \n",
    "#    citation in the comments of my program. \n",
    "#   \n",
    "#   Shashank datta Bezgam\n",
    "#   Dev Patel"
   ]
  },
  {
   "cell_type": "markdown",
   "metadata": {},
   "source": [
    "### Necessary Package Imports And Defining Constants"
   ]
  },
  {
   "cell_type": "code",
   "execution_count": null,
   "metadata": {},
   "outputs": [],
   "source": [
    "import pyaudio\n",
    "import struct\n",
    "import numpy as np\n",
    "import matplotlib.pyplot as plt\n",
    "import matplotlib.patches as mpatches\n",
    "from scipy.fftpack import fft\n",
    "from tkinter import TclError\n",
    "import pandas as pd\n",
    "from datetime import datetime\n",
    "\n",
    "# to display in separate Tk window\n",
    "%matplotlib tk\n",
    "\n",
    "# constants\n",
    "THRESHOLD_X = 2000\n",
    "THRESHOLD_Y = 0.6\n",
    "RATE = 44100                 # samples per second\n",
    "FORMAT = pyaudio.paInt16     \n",
    "CHANNELS = 1                 # channel for microphone\n",
    "FILENAME = \"output.csv\"\n",
    "CHUNK = 1024 * 2             "
   ]
  },
  {
   "cell_type": "markdown",
   "metadata": {},
   "source": [
    "### Main Program"
   ]
  },
  {
   "cell_type": "code",
   "execution_count": null,
   "metadata": {},
   "outputs": [],
   "source": [
    "# Creating dataframe for frequency\n",
    "threshold_df = pd.DataFrame(columns=['Frequency', 'Loudness', 'TimeStamp'])\n",
    "\n",
    "# create matplotlib figure and axes\n",
    "fig, (graph_1, graph_2) = plt.subplots(2, figsize=(16, 9))\n",
    "\n",
    "stream = pyaudio.PyAudio().open(\n",
    "    format=FORMAT,\n",
    "    channels=CHANNELS,\n",
    "    rate=RATE,\n",
    "    input=True,\n",
    "    output=True,\n",
    "    frames_per_buffer=CHUNK\n",
    ")\n",
    "\n",
    "wave_data = np.arange(0, 2 * CHUNK, 2)       # waveform\n",
    "freq_data = np.linspace(0, RATE, CHUNK)     # frequencies\n",
    "\n",
    "# create a wave_graph object with random data\n",
    "wave_graph, = graph_1.plot(wave_data, np.random.rand(CHUNK), '-', color=\"blue\", lw=2)\n",
    "\n",
    "# create semilogx wave_graph for spectrum\n",
    "freq_graph, = graph_2.semilogx(freq_data, np.random.rand(CHUNK), '-', color=\"blue\", lw=2)\n",
    "\n",
    "# format waveform axes\n",
    "graph_1.set_title('Audio Visualizer')\n",
    "graph_1.set_xlabel('Chunks')\n",
    "graph_1.set_ylabel('Loudness')\n",
    "graph_1.set_ylim(0, 255)\n",
    "graph_1.set_xlim(0, 2 * CHUNK)\n",
    "plt.setp(graph_1, xticks=[0, CHUNK, 2 * CHUNK], yticks=[0, 128, 255])\n",
    "\n",
    "\n",
    "graph_2.set_xlabel('Frequency (Log10)')\n",
    "graph_2.set_ylabel('Loudness')\n",
    "plt.axhspan(0, THRESHOLD_Y, 0, 0.658, facecolor='green', alpha=0.7)\n",
    "plt.axhspan(THRESHOLD_Y, 1.0, 0.658, RATE / 2, facecolor='red', alpha=0.7)\n",
    "plt.axhspan(0, THRESHOLD_Y, 0.658, RATE / 2, facecolor='orange', alpha=0.7)\n",
    "plt.axhspan(THRESHOLD_Y, 1.0, 0, 0.658, facecolor='yellow', alpha=0.7)\n",
    "\n",
    "pop_g = mpatches.Patch(color='green', label='NORMAL Noise Levels')\n",
    "pop_o = mpatches.Patch(color='orange', label='MODERATE Noise Levels')\n",
    "pop_r = mpatches.Patch(color='red', label='SEVERE Noise Levels')\n",
    "pop_y = mpatches.Patch(color='yellow', label='SLIGHT Noise Levels')\n",
    "plt.legend(handles=[pop_g, pop_o, pop_r, pop_y], ncol=4, loc='upper left', fancybox=True, shadow=True)\n",
    "\n",
    "# format spectrum axes\n",
    "graph_2.set_xlim(20, RATE / 2)\n",
    "\n",
    "print('Program is running now')\n",
    "\n",
    "df_length = 0\n",
    "\n",
    "while 1:\n",
    "    \n",
    "    # binary data\n",
    "    audio_data = stream.read(CHUNK, exception_on_overflow = False)  \n",
    "    \n",
    "    # ofsetting by + B\n",
    "    audio_data_int = struct.unpack(str(2 * CHUNK) + 'B', audio_data)\n",
    "    \n",
    "    # ofsetting back to original\n",
    "    audio_data_np = np.array(audio_data_int, dtype='b')[::2] + 128\n",
    "\n",
    "    yf = fft(audio_data_int)\n",
    "    temp = np.abs(yf[0:CHUNK]) * 2 / (256 * CHUNK)\n",
    "    \n",
    "    wave_graph.set_ydata(audio_data_np)\n",
    "    freq_graph.set_ydata(temp)\n",
    "    \n",
    "    (x_freq_graph, y_freq_graph) = freq_graph.get_data()\n",
    "    x_freq_graph = np.array(x_freq_graph)[10:]\n",
    "    y_freq_graph = np.array(y_freq_graph)[10:]\n",
    "    threshold_arr = np.where(np.logical_and(x_freq_graph > THRESHOLD_X, y_freq_graph > THRESHOLD_Y))\n",
    "    if (len(threshold_arr[0]) > 0 and x_freq_graph[threshold_arr[0][0]] < RATE / 2):\n",
    "        threshold_df.loc[df_length] = [x_freq_graph[threshold_arr[0][0]], y_freq_graph[threshold_arr[0][0]], datetime.now().strftime(\"%d/%m/%Y %H:%M:%S\")]\n",
    "        df_length += 1\n",
    "    try:\n",
    "        fig.canvas.draw()\n",
    "        fig.canvas.flush_events()\n",
    "        \n",
    "    except TclError:\n",
    "        break\n",
    "\n",
    "print('Program has stopped')\n",
    "threshold_df.to_csv(FILENAME, mode='w')"
   ]
  }
 ],
 "metadata": {
  "kernelspec": {
   "display_name": "Python 3.11.0 64-bit",
   "language": "python",
   "name": "python3"
  },
  "language_info": {
   "codemirror_mode": {
    "name": "ipython",
    "version": 3
   },
   "file_extension": ".py",
   "mimetype": "text/x-python",
   "name": "python",
   "nbconvert_exporter": "python",
   "pygments_lexer": "ipython3",
   "version": "3.11.0"
  },
  "orig_nbformat": 4,
  "vscode": {
   "interpreter": {
    "hash": "aee8b7b246df8f9039afb4144a1f6fd8d2ca17a180786b69acc140d282b71a49"
   }
  }
 },
 "nbformat": 4,
 "nbformat_minor": 2
}
